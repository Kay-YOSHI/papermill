{
 "cells": [
  {
   "cell_type": "markdown",
   "metadata": {},
   "source": [
    "## Papermill"
   ]
  },
  {
   "cell_type": "code",
   "execution_count": 2,
   "metadata": {},
   "outputs": [],
   "source": [
    "import papermill as pm"
   ]
  },
  {
   "cell_type": "code",
   "execution_count": 3,
   "metadata": {},
   "outputs": [
    {
     "name": "stderr",
     "output_type": "stream",
     "text": [
      "Executing: 100%|██████████| 5/5 [00:01<00:00,  3.27cell/s]\n"
     ]
    },
    {
     "data": {
      "text/plain": [
       "{'cells': [{'cell_type': 'markdown',\n",
       "   'metadata': {'tags': [],\n",
       "    'papermill': {'exception': False,\n",
       "     'start_time': '2023-07-19T11:38:29.375803',\n",
       "     'end_time': '2023-07-19T11:38:29.381736',\n",
       "     'duration': 0.005933,\n",
       "     'status': 'completed'}},\n",
       "   'source': '## Input',\n",
       "   'id': '21dd1ac4'},\n",
       "  {'cell_type': 'code',\n",
       "   'execution_count': 1,\n",
       "   'metadata': {'tags': ['parameters'],\n",
       "    'papermill': {'exception': False,\n",
       "     'start_time': '2023-07-19T11:38:29.389743',\n",
       "     'end_time': '2023-07-19T11:38:29.409751',\n",
       "     'duration': 0.020008,\n",
       "     'status': 'completed'},\n",
       "    'execution': {'iopub.status.busy': '2023-07-19T11:38:29.395713Z',\n",
       "     'iopub.execute_input': '2023-07-19T11:38:29.396695Z',\n",
       "     'shell.execute_reply': '2023-07-19T11:38:29.408754Z',\n",
       "     'iopub.status.idle': '2023-07-19T11:38:29.409751Z'}},\n",
       "   'outputs': [],\n",
       "   'source': '# parameters\\nalpha = 9999\\nbeta = 9999',\n",
       "   'id': 'a47ffd9b'},\n",
       "  {'id': '90834a93',\n",
       "   'cell_type': 'code',\n",
       "   'metadata': {'tags': ['injected-parameters'],\n",
       "    'papermill': {'exception': False,\n",
       "     'start_time': '2023-07-19T11:38:29.411746',\n",
       "     'end_time': '2023-07-19T11:38:29.424205',\n",
       "     'duration': 0.012459,\n",
       "     'status': 'completed'},\n",
       "    'execution': {'iopub.status.busy': '2023-07-19T11:38:29.414743Z',\n",
       "     'iopub.execute_input': '2023-07-19T11:38:29.414743Z',\n",
       "     'shell.execute_reply': '2023-07-19T11:38:29.423206Z',\n",
       "     'iopub.status.idle': '2023-07-19T11:38:29.424205Z'}},\n",
       "   'execution_count': 2,\n",
       "   'source': '# Parameters\\nalpha = 10\\nbeta = 100\\n',\n",
       "   'outputs': []},\n",
       "  {'cell_type': 'code',\n",
       "   'execution_count': 3,\n",
       "   'metadata': {'tags': [],\n",
       "    'papermill': {'exception': False,\n",
       "     'start_time': '2023-07-19T11:38:29.426208',\n",
       "     'end_time': '2023-07-19T11:38:29.439199',\n",
       "     'duration': 0.012991,\n",
       "     'status': 'completed'},\n",
       "    'execution': {'iopub.status.busy': '2023-07-19T11:38:29.430239Z',\n",
       "     'iopub.execute_input': '2023-07-19T11:38:29.430239Z',\n",
       "     'shell.execute_reply': '2023-07-19T11:38:29.439199Z',\n",
       "     'iopub.status.idle': '2023-07-19T11:38:29.439199Z'}},\n",
       "   'outputs': [{'output_type': 'stream',\n",
       "     'name': 'stdout',\n",
       "     'text': 'alpha = 10\\nbeta = 100\\n'}],\n",
       "   'source': \"print(f'alpha = {alpha}')\\nprint(f'beta = {beta}')\",\n",
       "   'id': '8c382cc0'},\n",
       "  {'cell_type': 'code',\n",
       "   'execution_count': None,\n",
       "   'metadata': {'tags': [],\n",
       "    'papermill': {'exception': False,\n",
       "     'start_time': '2023-07-19T11:38:29.441195',\n",
       "     'end_time': '2023-07-19T11:38:29.442192',\n",
       "     'duration': 0.000997,\n",
       "     'status': 'completed'}},\n",
       "   'outputs': [],\n",
       "   'source': '',\n",
       "   'id': '3e1db214'}],\n",
       " 'metadata': {'kernelspec': {'display_name': 'base',\n",
       "   'language': 'python',\n",
       "   'name': 'python3'},\n",
       "  'language_info': {'name': 'python',\n",
       "   'version': '3.9.7',\n",
       "   'mimetype': 'text/x-python',\n",
       "   'codemirror_mode': {'name': 'ipython', 'version': 3},\n",
       "   'pygments_lexer': 'ipython3',\n",
       "   'nbconvert_exporter': 'python',\n",
       "   'file_extension': '.py'},\n",
       "  'orig_nbformat_minor': 2,\n",
       "  'papermill': {'default_parameters': {},\n",
       "   'parameters': {'alpha': 10, 'beta': 100},\n",
       "   'environment_variables': {},\n",
       "   'version': '2.4.0',\n",
       "   'input_path': './input.ipynb',\n",
       "   'output_path': './output.ipynb',\n",
       "   'start_time': '2023-07-19T11:38:28.052964',\n",
       "   'end_time': '2023-07-19T11:38:29.582613',\n",
       "   'duration': 1.529649,\n",
       "   'exception': None}},\n",
       " 'nbformat': 4,\n",
       " 'nbformat_minor': 5}"
      ]
     },
     "execution_count": 3,
     "metadata": {},
     "output_type": "execute_result"
    }
   ],
   "source": [
    "pm.execute_notebook(\n",
    "    './input.ipynb',\n",
    "    './output.ipynb',\n",
    "    parameters = dict(alpha = 10, beta = 100)\n",
    ")"
   ]
  },
  {
   "cell_type": "code",
   "execution_count": null,
   "metadata": {},
   "outputs": [],
   "source": []
  }
 ],
 "metadata": {
  "kernelspec": {
   "display_name": "base",
   "language": "python",
   "name": "python3"
  },
  "language_info": {
   "codemirror_mode": {
    "name": "ipython",
    "version": 3
   },
   "file_extension": ".py",
   "mimetype": "text/x-python",
   "name": "python",
   "nbconvert_exporter": "python",
   "pygments_lexer": "ipython3",
   "version": "3.9.7"
  },
  "orig_nbformat": 4
 },
 "nbformat": 4,
 "nbformat_minor": 2
}
