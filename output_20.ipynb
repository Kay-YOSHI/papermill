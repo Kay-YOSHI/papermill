{
 "cells": [
  {
   "cell_type": "markdown",
   "id": "5484a48f",
   "metadata": {
    "papermill": {
     "duration": 0.005937,
     "end_time": "2023-09-17T02:22:35.201489",
     "exception": false,
     "start_time": "2023-09-17T02:22:35.195552",
     "status": "completed"
    },
    "tags": []
   },
   "source": [
    "## Input"
   ]
  },
  {
   "cell_type": "code",
   "execution_count": 1,
   "id": "2ab334db",
   "metadata": {
    "execution": {
     "iopub.execute_input": "2023-09-17T02:22:35.214450Z",
     "iopub.status.busy": "2023-09-17T02:22:35.213453Z",
     "iopub.status.idle": "2023-09-17T02:22:35.229044Z",
     "shell.execute_reply": "2023-09-17T02:22:35.229044Z"
    },
    "papermill": {
     "duration": 0.022571,
     "end_time": "2023-09-17T02:22:35.229044",
     "exception": false,
     "start_time": "2023-09-17T02:22:35.206473",
     "status": "completed"
    },
    "tags": [
     "parameters"
    ]
   },
   "outputs": [],
   "source": [
    "# parameters\n",
    "alpha = 9999\n",
    "beta = 9999"
   ]
  },
  {
   "cell_type": "code",
   "execution_count": 2,
   "id": "1a5a3d1c",
   "metadata": {
    "execution": {
     "iopub.execute_input": "2023-09-17T02:22:35.235032Z",
     "iopub.status.busy": "2023-09-17T02:22:35.234030Z",
     "iopub.status.idle": "2023-09-17T02:22:35.243539Z",
     "shell.execute_reply": "2023-09-17T02:22:35.244541Z"
    },
    "papermill": {
     "duration": 0.013489,
     "end_time": "2023-09-17T02:22:35.244541",
     "exception": false,
     "start_time": "2023-09-17T02:22:35.231052",
     "status": "completed"
    },
    "tags": [
     "injected-parameters"
    ]
   },
   "outputs": [],
   "source": [
    "# Parameters\n",
    "alpha = 20\n",
    "beta = 100\n"
   ]
  },
  {
   "cell_type": "code",
   "execution_count": 3,
   "id": "740ab4d6",
   "metadata": {
    "execution": {
     "iopub.execute_input": "2023-09-17T02:22:35.248607Z",
     "iopub.status.busy": "2023-09-17T02:22:35.248607Z",
     "iopub.status.idle": "2023-09-17T02:22:35.260274Z",
     "shell.execute_reply": "2023-09-17T02:22:35.259244Z"
    },
    "papermill": {
     "duration": 0.014736,
     "end_time": "2023-09-17T02:22:35.260274",
     "exception": false,
     "start_time": "2023-09-17T02:22:35.245538",
     "status": "completed"
    },
    "tags": []
   },
   "outputs": [
    {
     "name": "stdout",
     "output_type": "stream",
     "text": [
      "alpha = 20\n",
      "beta = 100\n"
     ]
    }
   ],
   "source": [
    "print(f'alpha = {alpha}')\n",
    "print(f'beta = {beta}')"
   ]
  },
  {
   "cell_type": "code",
   "execution_count": null,
   "id": "3c804357",
   "metadata": {
    "papermill": {
     "duration": 0.001007,
     "end_time": "2023-09-17T02:22:35.262996",
     "exception": false,
     "start_time": "2023-09-17T02:22:35.261989",
     "status": "completed"
    },
    "tags": []
   },
   "outputs": [],
   "source": []
  }
 ],
 "metadata": {
  "kernelspec": {
   "display_name": "base",
   "language": "python",
   "name": "python3"
  },
  "language_info": {
   "codemirror_mode": {
    "name": "ipython",
    "version": 3
   },
   "file_extension": ".py",
   "mimetype": "text/x-python",
   "name": "python",
   "nbconvert_exporter": "python",
   "pygments_lexer": "ipython3",
   "version": "3.9.7"
  },
  "papermill": {
   "default_parameters": {},
   "duration": 1.486989,
   "end_time": "2023-09-17T02:22:35.401796",
   "environment_variables": {},
   "exception": null,
   "input_path": "./base.ipynb",
   "output_path": "./output_20.ipynb",
   "parameters": {
    "alpha": 20,
    "beta": 100
   },
   "start_time": "2023-09-17T02:22:33.914807",
   "version": "2.4.0"
  }
 },
 "nbformat": 4,
 "nbformat_minor": 5
}