{
 "cells": [
  {
   "cell_type": "markdown",
   "id": "993611db",
   "metadata": {
    "papermill": {
     "duration": 0.005978,
     "end_time": "2023-09-20T02:28:46.365490",
     "exception": false,
     "start_time": "2023-09-20T02:28:46.359512",
     "status": "completed"
    },
    "tags": []
   },
   "source": [
    "## Base"
   ]
  },
  {
   "cell_type": "code",
   "execution_count": 1,
   "id": "d520cc46",
   "metadata": {
    "execution": {
     "iopub.execute_input": "2023-09-20T02:28:46.380454Z",
     "iopub.status.busy": "2023-09-20T02:28:46.379469Z",
     "iopub.status.idle": "2023-09-20T02:28:46.393427Z",
     "shell.execute_reply": "2023-09-20T02:28:46.392428Z"
    },
    "papermill": {
     "duration": 0.02295,
     "end_time": "2023-09-20T02:28:46.393427",
     "exception": false,
     "start_time": "2023-09-20T02:28:46.370477",
     "status": "completed"
    },
    "tags": [
     "parameters"
    ]
   },
   "outputs": [],
   "source": [
    "# parameters\n",
    "alpha = 9999\n",
    "beta = 9999"
   ]
  },
  {
   "cell_type": "code",
   "execution_count": 2,
   "id": "f472f0dd",
   "metadata": {
    "execution": {
     "iopub.execute_input": "2023-09-20T02:28:46.398412Z",
     "iopub.status.busy": "2023-09-20T02:28:46.398412Z",
     "iopub.status.idle": "2023-09-20T02:28:46.406558Z",
     "shell.execute_reply": "2023-09-20T02:28:46.406558Z"
    },
    "papermill": {
     "duration": 0.012129,
     "end_time": "2023-09-20T02:28:46.407555",
     "exception": false,
     "start_time": "2023-09-20T02:28:46.395426",
     "status": "completed"
    },
    "tags": [
     "injected-parameters"
    ]
   },
   "outputs": [],
   "source": [
    "# Parameters\n",
    "alpha = 20\n",
    "beta = 100\n"
   ]
  },
  {
   "cell_type": "code",
   "execution_count": 3,
   "id": "6481a01c",
   "metadata": {
    "execution": {
     "iopub.execute_input": "2023-09-20T02:28:46.412554Z",
     "iopub.status.busy": "2023-09-20T02:28:46.412554Z",
     "iopub.status.idle": "2023-09-20T02:28:46.422565Z",
     "shell.execute_reply": "2023-09-20T02:28:46.422565Z"
    },
    "papermill": {
     "duration": 0.014011,
     "end_time": "2023-09-20T02:28:46.422565",
     "exception": false,
     "start_time": "2023-09-20T02:28:46.408554",
     "status": "completed"
    },
    "tags": []
   },
   "outputs": [
    {
     "name": "stdout",
     "output_type": "stream",
     "text": [
      "alpha = 20\n",
      "beta = 100\n"
     ]
    }
   ],
   "source": [
    "print(f'alpha = {alpha}')\n",
    "print(f'beta = {beta}')"
   ]
  },
  {
   "cell_type": "code",
   "execution_count": null,
   "id": "58223727",
   "metadata": {
    "papermill": {
     "duration": 0.001999,
     "end_time": "2023-09-20T02:28:46.426559",
     "exception": false,
     "start_time": "2023-09-20T02:28:46.424560",
     "status": "completed"
    },
    "tags": []
   },
   "outputs": [],
   "source": []
  }
 ],
 "metadata": {
  "kernelspec": {
   "display_name": "base",
   "language": "python",
   "name": "python3"
  },
  "language_info": {
   "codemirror_mode": {
    "name": "ipython",
    "version": 3
   },
   "file_extension": ".py",
   "mimetype": "text/x-python",
   "name": "python",
   "nbconvert_exporter": "python",
   "pygments_lexer": "ipython3",
   "version": "3.9.7"
  },
  "papermill": {
   "default_parameters": {},
   "duration": 1.463614,
   "end_time": "2023-09-20T02:28:46.550457",
   "environment_variables": {},
   "exception": null,
   "input_path": "./base.ipynb",
   "output_path": "./output_20.ipynb",
   "parameters": {
    "alpha": 20,
    "beta": 100
   },
   "start_time": "2023-09-20T02:28:45.086843",
   "version": "2.4.0"
  }
 },
 "nbformat": 4,
 "nbformat_minor": 5
}