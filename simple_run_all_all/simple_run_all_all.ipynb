{
 "cells": [
  {
   "cell_type": "code",
   "execution_count": 1,
   "metadata": {},
   "outputs": [],
   "source": [
    "import papermill as pm"
   ]
  },
  {
   "cell_type": "code",
   "execution_count": 2,
   "metadata": {},
   "outputs": [],
   "source": [
    "_ym = '202309'"
   ]
  },
  {
   "cell_type": "code",
   "execution_count": 3,
   "metadata": {},
   "outputs": [
    {
     "name": "stderr",
     "output_type": "stream",
     "text": [
      "Executing:  80%|████████  | 4/5 [00:02<00:00,  1.78cell/s]\n"
     ]
    },
    {
     "ename": "PapermillExecutionError",
     "evalue": "\n---------------------------------------------------------------------------\nException encountered at \"In [4]\":\n---------------------------------------------------------------------------\nValueError                                Traceback (most recent call last)\n~\\AppData\\Local\\Temp/ipykernel_6636/2076367426.py in <module>\n----> 1 pm.execute_notebook(\n      2     './base_1.ipynb',\n      3     f'./base_1_{ym}.ipynb',\n      4     parameters = dict(ym = ym)\n      5 )\n\n~\\anaconda3\\lib\\site-packages\\papermill\\execute.py in execute_notebook(input_path, output_path, parameters, engine_name, request_save_on_cell_execute, prepare_only, kernel_name, language, progress_bar, log_output, stdout_file, stderr_file, start_timeout, report_mode, cwd, **engine_kwargs)\n     91         # Parameterize the Notebook.\n     92         if parameters:\n---> 93             nb = parameterize_notebook(\n     94                 nb,\n     95                 parameters,\n\n~\\anaconda3\\lib\\site-packages\\papermill\\parameterize.py in parameterize_notebook(nb, parameters, report_mode, comment, kernel_name, language, engine_name)\n     84 \n     85     # Fetch out the name and language from the notebook document by dropping-down into the engine's implementation\n---> 86     kernel_name = papermill_engines.nb_kernel_name(engine_name, nb, kernel_name)\n     87     language = papermill_engines.nb_language(engine_name, nb, language)\n     88 \n\n~\\anaconda3\\lib\\site-packages\\papermill\\engines.py in nb_kernel_name(self, engine_name, nb, name)\n     51     def nb_kernel_name(self, engine_name, nb, name=None):\n     52         \"\"\"Fetch kernel name from the document by dropping-down into the provided engine.\"\"\"\n---> 53         return self.get_engine(engine_name).nb_kernel_name(nb, name)\n     54 \n     55     def nb_language(self, engine_name, nb, language=None):\n\n~\\anaconda3\\lib\\site-packages\\papermill\\engines.py in nb_kernel_name(cls, nb, name)\n    380     def nb_kernel_name(cls, nb, name=None):\n    381         \"\"\"Use default implementation to fetch kernel name from the notebook object\"\"\"\n--> 382         return nb_kernel_name(nb, name)\n    383 \n    384     @classmethod\n\n~\\anaconda3\\lib\\site-packages\\papermill\\utils.py in nb_kernel_name(nb, name)\n     51     name = name or nb.metadata.get('kernelspec', {}).get('name')\n     52     if not name:\n---> 53         raise ValueError(\"No kernel name found in notebook and no override provided.\")\n     54     return name\n     55 \n\nValueError: No kernel name found in notebook and no override provided.\n",
     "output_type": "error",
     "traceback": [
      "\u001b[1;31m---------------------------------------------------------------------------\u001b[0m",
      "\u001b[1;31mPapermillExecutionError\u001b[0m                   Traceback (most recent call last)",
      "\u001b[1;32m~\\AppData\\Local\\Temp/ipykernel_4760/539711042.py\u001b[0m in \u001b[0;36m<module>\u001b[1;34m\u001b[0m\n\u001b[1;32m----> 1\u001b[1;33m pm.execute_notebook(\n\u001b[0m\u001b[0;32m      2\u001b[0m     \u001b[1;34m'./run_all_1.ipynb'\u001b[0m\u001b[1;33m,\u001b[0m\u001b[1;33m\u001b[0m\u001b[1;33m\u001b[0m\u001b[0m\n\u001b[0;32m      3\u001b[0m     \u001b[1;34mf'./run_all_1_{_ym}.ipynb'\u001b[0m\u001b[1;33m,\u001b[0m\u001b[1;33m\u001b[0m\u001b[1;33m\u001b[0m\u001b[0m\n\u001b[0;32m      4\u001b[0m     \u001b[0mparameters\u001b[0m \u001b[1;33m=\u001b[0m \u001b[0mdict\u001b[0m\u001b[1;33m(\u001b[0m\u001b[0mym\u001b[0m \u001b[1;33m=\u001b[0m \u001b[0m_ym\u001b[0m\u001b[1;33m)\u001b[0m\u001b[1;33m\u001b[0m\u001b[1;33m\u001b[0m\u001b[0m\n\u001b[0;32m      5\u001b[0m )\n",
      "\u001b[1;32mc:\\Users\\ksk01\\anaconda3\\lib\\site-packages\\papermill\\execute.py\u001b[0m in \u001b[0;36mexecute_notebook\u001b[1;34m(input_path, output_path, parameters, engine_name, request_save_on_cell_execute, prepare_only, kernel_name, language, progress_bar, log_output, stdout_file, stderr_file, start_timeout, report_mode, cwd, **engine_kwargs)\u001b[0m\n\u001b[0;32m    126\u001b[0m \u001b[1;33m\u001b[0m\u001b[0m\n\u001b[0;32m    127\u001b[0m             \u001b[1;31m# Check for errors first (it saves on error before raising)\u001b[0m\u001b[1;33m\u001b[0m\u001b[1;33m\u001b[0m\u001b[0m\n\u001b[1;32m--> 128\u001b[1;33m             \u001b[0mraise_for_execution_errors\u001b[0m\u001b[1;33m(\u001b[0m\u001b[0mnb\u001b[0m\u001b[1;33m,\u001b[0m \u001b[0moutput_path\u001b[0m\u001b[1;33m)\u001b[0m\u001b[1;33m\u001b[0m\u001b[1;33m\u001b[0m\u001b[0m\n\u001b[0m\u001b[0;32m    129\u001b[0m \u001b[1;33m\u001b[0m\u001b[0m\n\u001b[0;32m    130\u001b[0m         \u001b[1;31m# Write final output in case the engine didn't write it on cell completion.\u001b[0m\u001b[1;33m\u001b[0m\u001b[1;33m\u001b[0m\u001b[0m\n",
      "\u001b[1;32mc:\\Users\\ksk01\\anaconda3\\lib\\site-packages\\papermill\\execute.py\u001b[0m in \u001b[0;36mraise_for_execution_errors\u001b[1;34m(nb, output_path)\u001b[0m\n\u001b[0;32m    230\u001b[0m \u001b[1;33m\u001b[0m\u001b[0m\n\u001b[0;32m    231\u001b[0m         \u001b[0mwrite_ipynb\u001b[0m\u001b[1;33m(\u001b[0m\u001b[0mnb\u001b[0m\u001b[1;33m,\u001b[0m \u001b[0moutput_path\u001b[0m\u001b[1;33m)\u001b[0m\u001b[1;33m\u001b[0m\u001b[1;33m\u001b[0m\u001b[0m\n\u001b[1;32m--> 232\u001b[1;33m         \u001b[1;32mraise\u001b[0m \u001b[0merror\u001b[0m\u001b[1;33m\u001b[0m\u001b[1;33m\u001b[0m\u001b[0m\n\u001b[0m",
      "\u001b[1;31mPapermillExecutionError\u001b[0m: \n---------------------------------------------------------------------------\nException encountered at \"In [4]\":\n---------------------------------------------------------------------------\nValueError                                Traceback (most recent call last)\n~\\AppData\\Local\\Temp/ipykernel_6636/2076367426.py in <module>\n----> 1 pm.execute_notebook(\n      2     './base_1.ipynb',\n      3     f'./base_1_{ym}.ipynb',\n      4     parameters = dict(ym = ym)\n      5 )\n\n~\\anaconda3\\lib\\site-packages\\papermill\\execute.py in execute_notebook(input_path, output_path, parameters, engine_name, request_save_on_cell_execute, prepare_only, kernel_name, language, progress_bar, log_output, stdout_file, stderr_file, start_timeout, report_mode, cwd, **engine_kwargs)\n     91         # Parameterize the Notebook.\n     92         if parameters:\n---> 93             nb = parameterize_notebook(\n     94                 nb,\n     95                 parameters,\n\n~\\anaconda3\\lib\\site-packages\\papermill\\parameterize.py in parameterize_notebook(nb, parameters, report_mode, comment, kernel_name, language, engine_name)\n     84 \n     85     # Fetch out the name and language from the notebook document by dropping-down into the engine's implementation\n---> 86     kernel_name = papermill_engines.nb_kernel_name(engine_name, nb, kernel_name)\n     87     language = papermill_engines.nb_language(engine_name, nb, language)\n     88 \n\n~\\anaconda3\\lib\\site-packages\\papermill\\engines.py in nb_kernel_name(self, engine_name, nb, name)\n     51     def nb_kernel_name(self, engine_name, nb, name=None):\n     52         \"\"\"Fetch kernel name from the document by dropping-down into the provided engine.\"\"\"\n---> 53         return self.get_engine(engine_name).nb_kernel_name(nb, name)\n     54 \n     55     def nb_language(self, engine_name, nb, language=None):\n\n~\\anaconda3\\lib\\site-packages\\papermill\\engines.py in nb_kernel_name(cls, nb, name)\n    380     def nb_kernel_name(cls, nb, name=None):\n    381         \"\"\"Use default implementation to fetch kernel name from the notebook object\"\"\"\n--> 382         return nb_kernel_name(nb, name)\n    383 \n    384     @classmethod\n\n~\\anaconda3\\lib\\site-packages\\papermill\\utils.py in nb_kernel_name(nb, name)\n     51     name = name or nb.metadata.get('kernelspec', {}).get('name')\n     52     if not name:\n---> 53         raise ValueError(\"No kernel name found in notebook and no override provided.\")\n     54     return name\n     55 \n\nValueError: No kernel name found in notebook and no override provided.\n"
     ]
    }
   ],
   "source": [
    "pm.execute_notebook(\n",
    "    './run_all_1.ipynb',\n",
    "    f'./run_all_1_{_ym}.ipynb',\n",
    "    parameters = dict(ym = _ym)\n",
    ")"
   ]
  },
  {
   "cell_type": "code",
   "execution_count": null,
   "metadata": {},
   "outputs": [],
   "source": []
  }
 ],
 "metadata": {
  "kernelspec": {
   "display_name": "base",
   "language": "python",
   "name": "python3"
  },
  "language_info": {
   "codemirror_mode": {
    "name": "ipython",
    "version": 3
   },
   "file_extension": ".py",
   "mimetype": "text/x-python",
   "name": "python",
   "nbconvert_exporter": "python",
   "pygments_lexer": "ipython3",
   "version": "3.9.7"
  },
  "orig_nbformat": 4
 },
 "nbformat": 4,
 "nbformat_minor": 2
}
