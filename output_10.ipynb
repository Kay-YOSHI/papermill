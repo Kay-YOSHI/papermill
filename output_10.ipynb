{
 "cells": [
  {
   "cell_type": "markdown",
   "id": "4b242eb3",
   "metadata": {
    "papermill": {
     "duration": 0.004952,
     "end_time": "2023-09-20T02:28:44.886379",
     "exception": false,
     "start_time": "2023-09-20T02:28:44.881427",
     "status": "completed"
    },
    "tags": []
   },
   "source": [
    "## Base"
   ]
  },
  {
   "cell_type": "code",
   "execution_count": 1,
   "id": "c67117b5",
   "metadata": {
    "execution": {
     "iopub.execute_input": "2023-09-20T02:28:44.901350Z",
     "iopub.status.busy": "2023-09-20T02:28:44.901350Z",
     "iopub.status.idle": "2023-09-20T02:28:44.914964Z",
     "shell.execute_reply": "2023-09-20T02:28:44.915963Z"
    },
    "papermill": {
     "duration": 0.02157,
     "end_time": "2023-09-20T02:28:44.915963",
     "exception": false,
     "start_time": "2023-09-20T02:28:44.894393",
     "status": "completed"
    },
    "tags": [
     "parameters"
    ]
   },
   "outputs": [],
   "source": [
    "# parameters\n",
    "alpha = 9999\n",
    "beta = 9999"
   ]
  },
  {
   "cell_type": "code",
   "execution_count": 2,
   "id": "bc0ada23",
   "metadata": {
    "execution": {
     "iopub.execute_input": "2023-09-20T02:28:44.921982Z",
     "iopub.status.busy": "2023-09-20T02:28:44.920996Z",
     "iopub.status.idle": "2023-09-20T02:28:44.931013Z",
     "shell.execute_reply": "2023-09-20T02:28:44.929989Z"
    },
    "papermill": {
     "duration": 0.013058,
     "end_time": "2023-09-20T02:28:44.931013",
     "exception": false,
     "start_time": "2023-09-20T02:28:44.917955",
     "status": "completed"
    },
    "tags": [
     "injected-parameters"
    ]
   },
   "outputs": [],
   "source": [
    "# Parameters\n",
    "alpha = 10\n",
    "beta = 100\n"
   ]
  },
  {
   "cell_type": "code",
   "execution_count": 3,
   "id": "63602e97",
   "metadata": {
    "execution": {
     "iopub.execute_input": "2023-09-20T02:28:44.935933Z",
     "iopub.status.busy": "2023-09-20T02:28:44.935933Z",
     "iopub.status.idle": "2023-09-20T02:28:44.945050Z",
     "shell.execute_reply": "2023-09-20T02:28:44.946072Z"
    },
    "papermill": {
     "duration": 0.013519,
     "end_time": "2023-09-20T02:28:44.946072",
     "exception": false,
     "start_time": "2023-09-20T02:28:44.932553",
     "status": "completed"
    },
    "tags": []
   },
   "outputs": [
    {
     "name": "stdout",
     "output_type": "stream",
     "text": [
      "alpha = 10\n",
      "beta = 100\n"
     ]
    }
   ],
   "source": [
    "print(f'alpha = {alpha}')\n",
    "print(f'beta = {beta}')"
   ]
  },
  {
   "cell_type": "code",
   "execution_count": null,
   "id": "eceaa4fa",
   "metadata": {
    "papermill": {
     "duration": 0.001964,
     "end_time": "2023-09-20T02:28:44.949028",
     "exception": false,
     "start_time": "2023-09-20T02:28:44.947064",
     "status": "completed"
    },
    "tags": []
   },
   "outputs": [],
   "source": []
  }
 ],
 "metadata": {
  "kernelspec": {
   "display_name": "base",
   "language": "python",
   "name": "python3"
  },
  "language_info": {
   "codemirror_mode": {
    "name": "ipython",
    "version": 3
   },
   "file_extension": ".py",
   "mimetype": "text/x-python",
   "name": "python",
   "nbconvert_exporter": "python",
   "pygments_lexer": "ipython3",
   "version": "3.9.7"
  },
  "papermill": {
   "default_parameters": {},
   "duration": 1.506216,
   "end_time": "2023-09-20T02:28:45.075832",
   "environment_variables": {},
   "exception": null,
   "input_path": "./base.ipynb",
   "output_path": "./output_10.ipynb",
   "parameters": {
    "alpha": 10,
    "beta": 100
   },
   "start_time": "2023-09-20T02:28:43.569616",
   "version": "2.4.0"
  }
 },
 "nbformat": 4,
 "nbformat_minor": 5
}