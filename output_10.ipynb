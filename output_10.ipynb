{
 "cells": [
  {
   "cell_type": "markdown",
   "id": "bb312000",
   "metadata": {
    "papermill": {
     "duration": 0.005996,
     "end_time": "2023-09-17T02:22:33.705598",
     "exception": false,
     "start_time": "2023-09-17T02:22:33.699602",
     "status": "completed"
    },
    "tags": []
   },
   "source": [
    "## Input"
   ]
  },
  {
   "cell_type": "code",
   "execution_count": 1,
   "id": "17035816",
   "metadata": {
    "execution": {
     "iopub.execute_input": "2023-09-17T02:22:33.721347Z",
     "iopub.status.busy": "2023-09-17T02:22:33.721347Z",
     "iopub.status.idle": "2023-09-17T02:22:33.731654Z",
     "shell.execute_reply": "2023-09-17T02:22:33.732630Z"
    },
    "papermill": {
     "duration": 0.019017,
     "end_time": "2023-09-17T02:22:33.732630",
     "exception": false,
     "start_time": "2023-09-17T02:22:33.713613",
     "status": "completed"
    },
    "tags": [
     "parameters"
    ]
   },
   "outputs": [],
   "source": [
    "# parameters\n",
    "alpha = 9999\n",
    "beta = 9999"
   ]
  },
  {
   "cell_type": "code",
   "execution_count": 2,
   "id": "63b83e7b",
   "metadata": {
    "execution": {
     "iopub.execute_input": "2023-09-17T02:22:33.737628Z",
     "iopub.status.busy": "2023-09-17T02:22:33.737628Z",
     "iopub.status.idle": "2023-09-17T02:22:33.746899Z",
     "shell.execute_reply": "2023-09-17T02:22:33.747933Z"
    },
    "papermill": {
     "duration": 0.014314,
     "end_time": "2023-09-17T02:22:33.747933",
     "exception": false,
     "start_time": "2023-09-17T02:22:33.733619",
     "status": "completed"
    },
    "tags": [
     "injected-parameters"
    ]
   },
   "outputs": [],
   "source": [
    "# Parameters\n",
    "alpha = 10\n",
    "beta = 100\n"
   ]
  },
  {
   "cell_type": "code",
   "execution_count": 3,
   "id": "5b77d8ce",
   "metadata": {
    "execution": {
     "iopub.execute_input": "2023-09-17T02:22:33.751885Z",
     "iopub.status.busy": "2023-09-17T02:22:33.751885Z",
     "iopub.status.idle": "2023-09-17T02:22:33.763256Z",
     "shell.execute_reply": "2023-09-17T02:22:33.763256Z"
    },
    "papermill": {
     "duration": 0.014326,
     "end_time": "2023-09-17T02:22:33.763256",
     "exception": false,
     "start_time": "2023-09-17T02:22:33.748930",
     "status": "completed"
    },
    "tags": []
   },
   "outputs": [
    {
     "name": "stdout",
     "output_type": "stream",
     "text": [
      "alpha = 10\n",
      "beta = 100\n"
     ]
    }
   ],
   "source": [
    "print(f'alpha = {alpha}')\n",
    "print(f'beta = {beta}')"
   ]
  },
  {
   "cell_type": "code",
   "execution_count": null,
   "id": "64ed8802",
   "metadata": {
    "papermill": {
     "duration": 0.001,
     "end_time": "2023-09-17T02:22:33.766841",
     "exception": false,
     "start_time": "2023-09-17T02:22:33.765841",
     "status": "completed"
    },
    "tags": []
   },
   "outputs": [],
   "source": []
  }
 ],
 "metadata": {
  "kernelspec": {
   "display_name": "base",
   "language": "python",
   "name": "python3"
  },
  "language_info": {
   "codemirror_mode": {
    "name": "ipython",
    "version": 3
   },
   "file_extension": ".py",
   "mimetype": "text/x-python",
   "name": "python",
   "nbconvert_exporter": "python",
   "pygments_lexer": "ipython3",
   "version": "3.9.7"
  },
  "papermill": {
   "default_parameters": {},
   "duration": 1.537811,
   "end_time": "2023-09-17T02:22:33.906830",
   "environment_variables": {},
   "exception": null,
   "input_path": "./base.ipynb",
   "output_path": "./output_10.ipynb",
   "parameters": {
    "alpha": 10,
    "beta": 100
   },
   "start_time": "2023-09-17T02:22:32.369019",
   "version": "2.4.0"
  }
 },
 "nbformat": 4,
 "nbformat_minor": 5
}