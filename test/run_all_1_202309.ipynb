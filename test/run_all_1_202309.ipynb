{
 "cells": [
  {
   "cell_type": "code",
   "execution_count": 1,
   "id": "19f7925f",
   "metadata": {
    "execution": {
     "iopub.execute_input": "2023-09-20T04:22:43.449225Z",
     "iopub.status.busy": "2023-09-20T04:22:43.449225Z",
     "iopub.status.idle": "2023-09-20T04:22:43.454449Z",
     "shell.execute_reply": "2023-09-20T04:22:43.454449Z"
    },
    "papermill": {
     "duration": 0.017152,
     "end_time": "2023-09-20T04:22:43.454449",
     "exception": false,
     "start_time": "2023-09-20T04:22:43.437297",
     "status": "completed"
    },
    "tags": [
     "parameters"
    ]
   },
   "outputs": [],
   "source": [
    "# parameters\n",
    "ym = '999999'"
   ]
  },
  {
   "cell_type": "code",
   "execution_count": 2,
   "id": "1a517095",
   "metadata": {
    "execution": {
     "iopub.execute_input": "2023-09-20T04:22:43.461441Z",
     "iopub.status.busy": "2023-09-20T04:22:43.460430Z",
     "iopub.status.idle": "2023-09-20T04:22:43.469962Z",
     "shell.execute_reply": "2023-09-20T04:22:43.469962Z"
    },
    "papermill": {
     "duration": 0.013554,
     "end_time": "2023-09-20T04:22:43.469962",
     "exception": false,
     "start_time": "2023-09-20T04:22:43.456408",
     "status": "completed"
    },
    "tags": [
     "injected-parameters"
    ]
   },
   "outputs": [],
   "source": [
    "# Parameters\n",
    "ym = \"202309\"\n"
   ]
  },
  {
   "cell_type": "code",
   "execution_count": 3,
   "id": "c6932c62",
   "metadata": {
    "execution": {
     "iopub.execute_input": "2023-09-20T04:22:43.474948Z",
     "iopub.status.busy": "2023-09-20T04:22:43.474948Z",
     "iopub.status.idle": "2023-09-20T04:22:43.955574Z",
     "shell.execute_reply": "2023-09-20T04:22:43.955574Z"
    },
    "papermill": {
     "duration": 0.484615,
     "end_time": "2023-09-20T04:22:43.955574",
     "exception": false,
     "start_time": "2023-09-20T04:22:43.470959",
     "status": "completed"
    },
    "tags": []
   },
   "outputs": [],
   "source": [
    "import papermill as pm"
   ]
  },
  {
   "cell_type": "code",
   "execution_count": 4,
   "id": "4c3d3593",
   "metadata": {
    "execution": {
     "iopub.execute_input": "2023-09-20T04:22:43.962567Z",
     "iopub.status.busy": "2023-09-20T04:22:43.962567Z",
     "iopub.status.idle": "2023-09-20T04:22:45.630299Z",
     "shell.execute_reply": "2023-09-20T04:22:45.630299Z"
    },
    "papermill": {
     "duration": 1.673718,
     "end_time": "2023-09-20T04:22:45.631296",
     "exception": false,
     "start_time": "2023-09-20T04:22:43.957578",
     "status": "completed"
    },
    "tags": []
   },
   "outputs": [
    {
     "name": "stderr",
     "output_type": "stream",
     "text": [
      "\r",
      "Executing:   0%|          | 0/4 [00:00<?, ?cell/s]"
     ]
    },
    {
     "name": "stderr",
     "output_type": "stream",
     "text": [
      "\r",
      "Executing:  25%|██▌       | 1/4 [00:01<00:03,  1.32s/cell]"
     ]
    },
    {
     "name": "stderr",
     "output_type": "stream",
     "text": [
      "\r",
      "Executing: 100%|██████████| 4/4 [00:01<00:00,  2.67cell/s]"
     ]
    },
    {
     "name": "stderr",
     "output_type": "stream",
     "text": [
      "\n"
     ]
    },
    {
     "data": {
      "text/plain": [
       "{'cells': [{'cell_type': 'code',\n",
       "   'execution_count': 1,\n",
       "   'metadata': {'tags': ['parameters'],\n",
       "    'papermill': {'exception': False,\n",
       "     'start_time': '2023-09-20T04:22:45.408488',\n",
       "     'end_time': '2023-09-20T04:22:45.425734',\n",
       "     'duration': 0.017246,\n",
       "     'status': 'completed'},\n",
       "    'execution': {'iopub.status.busy': '2023-09-20T04:22:45.414473Z',\n",
       "     'iopub.execute_input': '2023-09-20T04:22:45.415469Z',\n",
       "     'iopub.status.idle': '2023-09-20T04:22:45.424735Z',\n",
       "     'shell.execute_reply': '2023-09-20T04:22:45.425734Z'}},\n",
       "   'outputs': [],\n",
       "   'source': \"# parameters\\nym = '999999'\",\n",
       "   'id': '3b7e7128'},\n",
       "  {'id': '7172e31b',\n",
       "   'cell_type': 'code',\n",
       "   'metadata': {'tags': ['injected-parameters'],\n",
       "    'papermill': {'exception': False,\n",
       "     'start_time': '2023-09-20T04:22:45.427728',\n",
       "     'end_time': '2023-09-20T04:22:45.442691',\n",
       "     'duration': 0.014963,\n",
       "     'status': 'completed'},\n",
       "    'execution': {'iopub.status.busy': '2023-09-20T04:22:45.433712Z',\n",
       "     'iopub.execute_input': '2023-09-20T04:22:45.434709Z',\n",
       "     'iopub.status.idle': '2023-09-20T04:22:45.441692Z',\n",
       "     'shell.execute_reply': '2023-09-20T04:22:45.442691Z'}},\n",
       "   'execution_count': 2,\n",
       "   'source': '# Parameters\\nym = \"202309\"\\n',\n",
       "   'outputs': []},\n",
       "  {'cell_type': 'code',\n",
       "   'execution_count': 3,\n",
       "   'metadata': {'tags': [],\n",
       "    'papermill': {'exception': False,\n",
       "     'start_time': '2023-09-20T04:22:45.444682',\n",
       "     'end_time': '2023-09-20T04:22:45.457649',\n",
       "     'duration': 0.012967,\n",
       "     'status': 'completed'},\n",
       "    'execution': {'iopub.status.busy': '2023-09-20T04:22:45.450666Z',\n",
       "     'iopub.execute_input': '2023-09-20T04:22:45.450666Z',\n",
       "     'iopub.status.idle': '2023-09-20T04:22:45.457649Z',\n",
       "     'shell.execute_reply': '2023-09-20T04:22:45.457649Z'}},\n",
       "   'outputs': [{'output_type': 'stream',\n",
       "     'name': 'stdout',\n",
       "     'text': 'ym = 202309\\n'}],\n",
       "   'source': \"print(f'ym = {ym}')\",\n",
       "   'id': '031f9241'},\n",
       "  {'cell_type': 'code',\n",
       "   'execution_count': None,\n",
       "   'metadata': {'tags': [],\n",
       "    'papermill': {'exception': False,\n",
       "     'start_time': '2023-09-20T04:22:45.459645',\n",
       "     'end_time': '2023-09-20T04:22:45.460644',\n",
       "     'duration': 0.000999,\n",
       "     'status': 'completed'}},\n",
       "   'outputs': [],\n",
       "   'source': '',\n",
       "   'id': 'b505b3ff'}],\n",
       " 'metadata': {'kernelspec': {'display_name': 'base',\n",
       "   'language': 'python',\n",
       "   'name': 'python3'},\n",
       "  'language_info': {'name': 'python',\n",
       "   'version': '3.9.7',\n",
       "   'mimetype': 'text/x-python',\n",
       "   'codemirror_mode': {'name': 'ipython', 'version': 3},\n",
       "   'pygments_lexer': 'ipython3',\n",
       "   'nbconvert_exporter': 'python',\n",
       "   'file_extension': '.py'},\n",
       "  'orig_nbformat_minor': 2,\n",
       "  'papermill': {'default_parameters': {},\n",
       "   'parameters': {'ym': '202309'},\n",
       "   'environment_variables': {},\n",
       "   'version': '2.4.0',\n",
       "   'input_path': './base_1.ipynb',\n",
       "   'output_path': './base_1_202309.ipynb',\n",
       "   'start_time': '2023-09-20T04:22:44.103785',\n",
       "   'end_time': '2023-09-20T04:22:45.600444',\n",
       "   'duration': 1.496659,\n",
       "   'exception': None}},\n",
       " 'nbformat': 4,\n",
       " 'nbformat_minor': 5}"
      ]
     },
     "execution_count": 4,
     "metadata": {},
     "output_type": "execute_result"
    }
   ],
   "source": [
    "pm.execute_notebook(\n",
    "    './base_1.ipynb',\n",
    "    f'./base_1_{ym}.ipynb',\n",
    "    parameters = dict(ym = ym)\n",
    ")"
   ]
  },
  {
   "cell_type": "code",
   "execution_count": null,
   "id": "eb11d4ce",
   "metadata": {
    "papermill": {
     "duration": 0.00195,
     "end_time": "2023-09-20T04:22:45.636281",
     "exception": false,
     "start_time": "2023-09-20T04:22:45.634331",
     "status": "completed"
    },
    "tags": []
   },
   "outputs": [],
   "source": []
  }
 ],
 "metadata": {
  "kernelspec": {
   "display_name": "base",
   "language": "python",
   "name": "python3"
  },
  "language_info": {
   "codemirror_mode": {
    "name": "ipython",
    "version": 3
   },
   "file_extension": ".py",
   "mimetype": "text/x-python",
   "name": "python",
   "nbconvert_exporter": "python",
   "pygments_lexer": "ipython3",
   "version": "3.9.7"
  },
  "papermill": {
   "default_parameters": {},
   "duration": 3.762906,
   "end_time": "2023-09-20T04:22:45.880170",
   "environment_variables": {},
   "exception": null,
   "input_path": "./run_all_1.ipynb",
   "output_path": "./run_all_1_202309.ipynb",
   "parameters": {
    "ym": "202309"
   },
   "start_time": "2023-09-20T04:22:42.117264",
   "version": "2.4.0"
  }
 },
 "nbformat": 4,
 "nbformat_minor": 5
}