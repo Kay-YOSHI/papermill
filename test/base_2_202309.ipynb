{
 "cells": [
  {
   "cell_type": "code",
   "execution_count": 1,
   "id": "9269d367",
   "metadata": {
    "execution": {
     "iopub.execute_input": "2023-09-20T04:22:49.145510Z",
     "iopub.status.busy": "2023-09-20T04:22:49.145510Z",
     "iopub.status.idle": "2023-09-20T04:22:49.155488Z",
     "shell.execute_reply": "2023-09-20T04:22:49.155488Z"
    },
    "papermill": {
     "duration": 0.016961,
     "end_time": "2023-09-20T04:22:49.156486",
     "exception": false,
     "start_time": "2023-09-20T04:22:49.139525",
     "status": "completed"
    },
    "tags": [
     "parameters"
    ]
   },
   "outputs": [],
   "source": [
    "# parameters\n",
    "ym = '999999'"
   ]
  },
  {
   "cell_type": "code",
   "execution_count": 2,
   "id": "b406c04c",
   "metadata": {
    "execution": {
     "iopub.execute_input": "2023-09-20T04:22:49.162464Z",
     "iopub.status.busy": "2023-09-20T04:22:49.162464Z",
     "iopub.status.idle": "2023-09-20T04:22:49.170162Z",
     "shell.execute_reply": "2023-09-20T04:22:49.171210Z"
    },
    "papermill": {
     "duration": 0.013729,
     "end_time": "2023-09-20T04:22:49.171210",
     "exception": false,
     "start_time": "2023-09-20T04:22:49.157481",
     "status": "completed"
    },
    "tags": [
     "injected-parameters"
    ]
   },
   "outputs": [],
   "source": [
    "# Parameters\n",
    "ym = \"202309\"\n"
   ]
  },
  {
   "cell_type": "code",
   "execution_count": 3,
   "id": "381e4a3b",
   "metadata": {
    "execution": {
     "iopub.execute_input": "2023-09-20T04:22:49.175167Z",
     "iopub.status.busy": "2023-09-20T04:22:49.174153Z",
     "iopub.status.idle": "2023-09-20T04:22:49.187074Z",
     "shell.execute_reply": "2023-09-20T04:22:49.186042Z"
    },
    "papermill": {
     "duration": 0.014877,
     "end_time": "2023-09-20T04:22:49.187074",
     "exception": false,
     "start_time": "2023-09-20T04:22:49.172197",
     "status": "completed"
    },
    "tags": []
   },
   "outputs": [
    {
     "name": "stdout",
     "output_type": "stream",
     "text": [
      "ym = 202309\n"
     ]
    }
   ],
   "source": [
    "print(f'ym = {ym}')"
   ]
  },
  {
   "cell_type": "code",
   "execution_count": null,
   "id": "888a80e6",
   "metadata": {
    "papermill": {
     "duration": 0.000998,
     "end_time": "2023-09-20T04:22:49.189069",
     "exception": false,
     "start_time": "2023-09-20T04:22:49.188071",
     "status": "completed"
    },
    "tags": []
   },
   "outputs": [],
   "source": []
  }
 ],
 "metadata": {
  "kernelspec": {
   "display_name": "base",
   "language": "python",
   "name": "python3"
  },
  "language_info": {
   "codemirror_mode": {
    "name": "ipython",
    "version": 3
   },
   "file_extension": ".py",
   "mimetype": "text/x-python",
   "name": "python",
   "nbconvert_exporter": "python",
   "pygments_lexer": "ipython3",
   "version": "3.9.7"
  },
  "papermill": {
   "default_parameters": {},
   "duration": 1.503005,
   "end_time": "2023-09-20T04:22:49.327746",
   "environment_variables": {},
   "exception": null,
   "input_path": "./base_2.ipynb",
   "output_path": "./base_2_202309.ipynb",
   "parameters": {
    "ym": "202309"
   },
   "start_time": "2023-09-20T04:22:47.824741",
   "version": "2.4.0"
  }
 },
 "nbformat": 4,
 "nbformat_minor": 5
}