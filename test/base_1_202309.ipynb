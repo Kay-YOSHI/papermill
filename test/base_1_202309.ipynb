{
 "cells": [
  {
   "cell_type": "code",
   "execution_count": 1,
   "id": "3b7e7128",
   "metadata": {
    "execution": {
     "iopub.execute_input": "2023-09-20T04:22:45.415469Z",
     "iopub.status.busy": "2023-09-20T04:22:45.414473Z",
     "iopub.status.idle": "2023-09-20T04:22:45.424735Z",
     "shell.execute_reply": "2023-09-20T04:22:45.425734Z"
    },
    "papermill": {
     "duration": 0.017246,
     "end_time": "2023-09-20T04:22:45.425734",
     "exception": false,
     "start_time": "2023-09-20T04:22:45.408488",
     "status": "completed"
    },
    "tags": [
     "parameters"
    ]
   },
   "outputs": [],
   "source": [
    "# parameters\n",
    "ym = '999999'"
   ]
  },
  {
   "cell_type": "code",
   "execution_count": 2,
   "id": "7172e31b",
   "metadata": {
    "execution": {
     "iopub.execute_input": "2023-09-20T04:22:45.434709Z",
     "iopub.status.busy": "2023-09-20T04:22:45.433712Z",
     "iopub.status.idle": "2023-09-20T04:22:45.441692Z",
     "shell.execute_reply": "2023-09-20T04:22:45.442691Z"
    },
    "papermill": {
     "duration": 0.014963,
     "end_time": "2023-09-20T04:22:45.442691",
     "exception": false,
     "start_time": "2023-09-20T04:22:45.427728",
     "status": "completed"
    },
    "tags": [
     "injected-parameters"
    ]
   },
   "outputs": [],
   "source": [
    "# Parameters\n",
    "ym = \"202309\"\n"
   ]
  },
  {
   "cell_type": "code",
   "execution_count": 3,
   "id": "031f9241",
   "metadata": {
    "execution": {
     "iopub.execute_input": "2023-09-20T04:22:45.450666Z",
     "iopub.status.busy": "2023-09-20T04:22:45.450666Z",
     "iopub.status.idle": "2023-09-20T04:22:45.457649Z",
     "shell.execute_reply": "2023-09-20T04:22:45.457649Z"
    },
    "papermill": {
     "duration": 0.012967,
     "end_time": "2023-09-20T04:22:45.457649",
     "exception": false,
     "start_time": "2023-09-20T04:22:45.444682",
     "status": "completed"
    },
    "tags": []
   },
   "outputs": [
    {
     "name": "stdout",
     "output_type": "stream",
     "text": [
      "ym = 202309\n"
     ]
    }
   ],
   "source": [
    "print(f'ym = {ym}')"
   ]
  },
  {
   "cell_type": "code",
   "execution_count": null,
   "id": "b505b3ff",
   "metadata": {
    "papermill": {
     "duration": 0.000999,
     "end_time": "2023-09-20T04:22:45.460644",
     "exception": false,
     "start_time": "2023-09-20T04:22:45.459645",
     "status": "completed"
    },
    "tags": []
   },
   "outputs": [],
   "source": []
  }
 ],
 "metadata": {
  "kernelspec": {
   "display_name": "base",
   "language": "python",
   "name": "python3"
  },
  "language_info": {
   "codemirror_mode": {
    "name": "ipython",
    "version": 3
   },
   "file_extension": ".py",
   "mimetype": "text/x-python",
   "name": "python",
   "nbconvert_exporter": "python",
   "pygments_lexer": "ipython3",
   "version": "3.9.7"
  },
  "papermill": {
   "default_parameters": {},
   "duration": 1.496659,
   "end_time": "2023-09-20T04:22:45.600444",
   "environment_variables": {},
   "exception": null,
   "input_path": "./base_1.ipynb",
   "output_path": "./base_1_202309.ipynb",
   "parameters": {
    "ym": "202309"
   },
   "start_time": "2023-09-20T04:22:44.103785",
   "version": "2.4.0"
  }
 },
 "nbformat": 4,
 "nbformat_minor": 5
}