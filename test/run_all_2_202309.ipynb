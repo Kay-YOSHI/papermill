{
 "cells": [
  {
   "cell_type": "code",
   "execution_count": 1,
   "id": "5a99a070",
   "metadata": {
    "execution": {
     "iopub.execute_input": "2023-09-20T04:22:47.194435Z",
     "iopub.status.busy": "2023-09-20T04:22:47.193437Z",
     "iopub.status.idle": "2023-09-20T04:22:47.204673Z",
     "shell.execute_reply": "2023-09-20T04:22:47.204673Z"
    },
    "papermill": {
     "duration": 0.016134,
     "end_time": "2023-09-20T04:22:47.204673",
     "exception": false,
     "start_time": "2023-09-20T04:22:47.188539",
     "status": "completed"
    },
    "tags": [
     "parameters"
    ]
   },
   "outputs": [],
   "source": [
    "# parameters\n",
    "ym = '999999'"
   ]
  },
  {
   "cell_type": "code",
   "execution_count": 2,
   "id": "7deb93ab",
   "metadata": {
    "execution": {
     "iopub.execute_input": "2023-09-20T04:22:47.210643Z",
     "iopub.status.busy": "2023-09-20T04:22:47.210643Z",
     "iopub.status.idle": "2023-09-20T04:22:47.220131Z",
     "shell.execute_reply": "2023-09-20T04:22:47.220131Z"
    },
    "papermill": {
     "duration": 0.013479,
     "end_time": "2023-09-20T04:22:47.220131",
     "exception": false,
     "start_time": "2023-09-20T04:22:47.206652",
     "status": "completed"
    },
    "tags": [
     "injected-parameters"
    ]
   },
   "outputs": [],
   "source": [
    "# Parameters\n",
    "ym = \"202309\"\n"
   ]
  },
  {
   "cell_type": "code",
   "execution_count": 3,
   "id": "c87f3757",
   "metadata": {
    "execution": {
     "iopub.execute_input": "2023-09-20T04:22:47.225117Z",
     "iopub.status.busy": "2023-09-20T04:22:47.224119Z",
     "iopub.status.idle": "2023-09-20T04:22:47.689904Z",
     "shell.execute_reply": "2023-09-20T04:22:47.689904Z"
    },
    "papermill": {
     "duration": 0.468776,
     "end_time": "2023-09-20T04:22:47.689904",
     "exception": false,
     "start_time": "2023-09-20T04:22:47.221128",
     "status": "completed"
    },
    "tags": []
   },
   "outputs": [],
   "source": [
    "import papermill as pm"
   ]
  },
  {
   "cell_type": "code",
   "execution_count": 4,
   "id": "84d4888f",
   "metadata": {
    "execution": {
     "iopub.execute_input": "2023-09-20T04:22:47.697854Z",
     "iopub.status.busy": "2023-09-20T04:22:47.697854Z",
     "iopub.status.idle": "2023-09-20T04:22:49.342310Z",
     "shell.execute_reply": "2023-09-20T04:22:49.341345Z"
    },
    "papermill": {
     "duration": 1.650441,
     "end_time": "2023-09-20T04:22:49.342310",
     "exception": false,
     "start_time": "2023-09-20T04:22:47.691869",
     "status": "completed"
    },
    "tags": []
   },
   "outputs": [
    {
     "name": "stderr",
     "output_type": "stream",
     "text": [
      "\r",
      "Executing:   0%|          | 0/4 [00:00<?, ?cell/s]"
     ]
    },
    {
     "name": "stderr",
     "output_type": "stream",
     "text": [
      "\r",
      "Executing:  25%|██▌       | 1/4 [00:01<00:03,  1.33s/cell]"
     ]
    },
    {
     "name": "stderr",
     "output_type": "stream",
     "text": [
      "\r",
      "Executing: 100%|██████████| 4/4 [00:01<00:00,  2.66cell/s]"
     ]
    },
    {
     "name": "stderr",
     "output_type": "stream",
     "text": [
      "\n"
     ]
    },
    {
     "data": {
      "text/plain": [
       "{'cells': [{'cell_type': 'code',\n",
       "   'execution_count': 1,\n",
       "   'metadata': {'tags': ['parameters'],\n",
       "    'papermill': {'exception': False,\n",
       "     'start_time': '2023-09-20T04:22:49.139525',\n",
       "     'end_time': '2023-09-20T04:22:49.156486',\n",
       "     'duration': 0.016961,\n",
       "     'status': 'completed'},\n",
       "    'execution': {'iopub.status.busy': '2023-09-20T04:22:49.145510Z',\n",
       "     'iopub.execute_input': '2023-09-20T04:22:49.145510Z',\n",
       "     'iopub.status.idle': '2023-09-20T04:22:49.155488Z',\n",
       "     'shell.execute_reply': '2023-09-20T04:22:49.155488Z'}},\n",
       "   'outputs': [],\n",
       "   'source': \"# parameters\\nym = '999999'\",\n",
       "   'id': '9269d367'},\n",
       "  {'id': 'b406c04c',\n",
       "   'cell_type': 'code',\n",
       "   'metadata': {'tags': ['injected-parameters'],\n",
       "    'papermill': {'exception': False,\n",
       "     'start_time': '2023-09-20T04:22:49.157481',\n",
       "     'end_time': '2023-09-20T04:22:49.171210',\n",
       "     'duration': 0.013729,\n",
       "     'status': 'completed'},\n",
       "    'execution': {'iopub.status.busy': '2023-09-20T04:22:49.162464Z',\n",
       "     'iopub.execute_input': '2023-09-20T04:22:49.162464Z',\n",
       "     'iopub.status.idle': '2023-09-20T04:22:49.170162Z',\n",
       "     'shell.execute_reply': '2023-09-20T04:22:49.171210Z'}},\n",
       "   'execution_count': 2,\n",
       "   'source': '# Parameters\\nym = \"202309\"\\n',\n",
       "   'outputs': []},\n",
       "  {'cell_type': 'code',\n",
       "   'execution_count': 3,\n",
       "   'metadata': {'tags': [],\n",
       "    'papermill': {'exception': False,\n",
       "     'start_time': '2023-09-20T04:22:49.172197',\n",
       "     'end_time': '2023-09-20T04:22:49.187074',\n",
       "     'duration': 0.014877,\n",
       "     'status': 'completed'},\n",
       "    'execution': {'iopub.status.busy': '2023-09-20T04:22:49.174153Z',\n",
       "     'iopub.execute_input': '2023-09-20T04:22:49.175167Z',\n",
       "     'shell.execute_reply': '2023-09-20T04:22:49.186042Z',\n",
       "     'iopub.status.idle': '2023-09-20T04:22:49.187074Z'}},\n",
       "   'outputs': [{'output_type': 'stream',\n",
       "     'name': 'stdout',\n",
       "     'text': 'ym = 202309\\n'}],\n",
       "   'source': \"print(f'ym = {ym}')\",\n",
       "   'id': '381e4a3b'},\n",
       "  {'cell_type': 'code',\n",
       "   'execution_count': None,\n",
       "   'metadata': {'tags': [],\n",
       "    'papermill': {'exception': False,\n",
       "     'start_time': '2023-09-20T04:22:49.188071',\n",
       "     'end_time': '2023-09-20T04:22:49.189069',\n",
       "     'duration': 0.000998,\n",
       "     'status': 'completed'}},\n",
       "   'outputs': [],\n",
       "   'source': '',\n",
       "   'id': '888a80e6'}],\n",
       " 'metadata': {'kernelspec': {'display_name': 'base',\n",
       "   'language': 'python',\n",
       "   'name': 'python3'},\n",
       "  'language_info': {'name': 'python',\n",
       "   'version': '3.9.7',\n",
       "   'mimetype': 'text/x-python',\n",
       "   'codemirror_mode': {'name': 'ipython', 'version': 3},\n",
       "   'pygments_lexer': 'ipython3',\n",
       "   'nbconvert_exporter': 'python',\n",
       "   'file_extension': '.py'},\n",
       "  'orig_nbformat_minor': 2,\n",
       "  'papermill': {'default_parameters': {},\n",
       "   'parameters': {'ym': '202309'},\n",
       "   'environment_variables': {},\n",
       "   'version': '2.4.0',\n",
       "   'input_path': './base_2.ipynb',\n",
       "   'output_path': './base_2_202309.ipynb',\n",
       "   'start_time': '2023-09-20T04:22:47.824741',\n",
       "   'end_time': '2023-09-20T04:22:49.327746',\n",
       "   'duration': 1.503005,\n",
       "   'exception': None}},\n",
       " 'nbformat': 4,\n",
       " 'nbformat_minor': 5}"
      ]
     },
     "execution_count": 4,
     "metadata": {},
     "output_type": "execute_result"
    }
   ],
   "source": [
    "pm.execute_notebook(\n",
    "    './base_2.ipynb',\n",
    "    f'./base_2_{ym}.ipynb',\n",
    "    parameters = dict(ym = ym)\n",
    ")"
   ]
  },
  {
   "cell_type": "code",
   "execution_count": null,
   "id": "0d3783b3",
   "metadata": {
    "papermill": {
     "duration": 0.002017,
     "end_time": "2023-09-20T04:22:49.346322",
     "exception": false,
     "start_time": "2023-09-20T04:22:49.344305",
     "status": "completed"
    },
    "tags": []
   },
   "outputs": [],
   "source": []
  }
 ],
 "metadata": {
  "kernelspec": {
   "display_name": "base",
   "language": "python",
   "name": "python3"
  },
  "language_info": {
   "codemirror_mode": {
    "name": "ipython",
    "version": 3
   },
   "file_extension": ".py",
   "mimetype": "text/x-python",
   "name": "python",
   "nbconvert_exporter": "python",
   "pygments_lexer": "ipython3",
   "version": "3.9.7"
  },
  "papermill": {
   "default_parameters": {},
   "duration": 3.663069,
   "end_time": "2023-09-20T04:22:49.583347",
   "environment_variables": {},
   "exception": null,
   "input_path": "./run_all_2.ipynb",
   "output_path": "./run_all_2_202309.ipynb",
   "parameters": {
    "ym": "202309"
   },
   "start_time": "2023-09-20T04:22:45.920278",
   "version": "2.4.0"
  }
 },
 "nbformat": 4,
 "nbformat_minor": 5
}