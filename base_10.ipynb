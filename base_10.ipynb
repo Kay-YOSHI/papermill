{
 "cells": [
  {
   "cell_type": "markdown",
   "id": "90feca7b",
   "metadata": {
    "papermill": {
     "duration": 0.004001,
     "end_time": "2023-09-20T04:04:59.522165",
     "exception": false,
     "start_time": "2023-09-20T04:04:59.518164",
     "status": "completed"
    },
    "tags": []
   },
   "source": [
    "## Base"
   ]
  },
  {
   "cell_type": "code",
   "execution_count": 1,
   "id": "3f770a80",
   "metadata": {
    "execution": {
     "iopub.execute_input": "2023-09-20T04:04:59.534133Z",
     "iopub.status.busy": "2023-09-20T04:04:59.534133Z",
     "iopub.status.idle": "2023-09-20T04:04:59.552433Z",
     "shell.execute_reply": "2023-09-20T04:04:59.552433Z"
    },
    "papermill": {
     "duration": 0.027276,
     "end_time": "2023-09-20T04:04:59.553430",
     "exception": false,
     "start_time": "2023-09-20T04:04:59.526154",
     "status": "completed"
    },
    "tags": [
     "parameters"
    ]
   },
   "outputs": [],
   "source": [
    "# parameters\n",
    "alpha = 9999\n",
    "beta = 9999"
   ]
  },
  {
   "cell_type": "code",
   "execution_count": 2,
   "id": "1f5615f7",
   "metadata": {
    "execution": {
     "iopub.execute_input": "2023-09-20T04:04:59.559410Z",
     "iopub.status.busy": "2023-09-20T04:04:59.558412Z",
     "iopub.status.idle": "2023-09-20T04:04:59.567132Z",
     "shell.execute_reply": "2023-09-20T04:04:59.567132Z"
    },
    "papermill": {
     "duration": 0.011709,
     "end_time": "2023-09-20T04:04:59.567132",
     "exception": false,
     "start_time": "2023-09-20T04:04:59.555423",
     "status": "completed"
    },
    "tags": [
     "injected-parameters"
    ]
   },
   "outputs": [],
   "source": [
    "# Parameters\n",
    "alpha = 10\n",
    "beta = 100\n"
   ]
  },
  {
   "cell_type": "code",
   "execution_count": 3,
   "id": "1812af4d",
   "metadata": {
    "execution": {
     "iopub.execute_input": "2023-09-20T04:04:59.572113Z",
     "iopub.status.busy": "2023-09-20T04:04:59.572113Z",
     "iopub.status.idle": "2023-09-20T04:04:59.582774Z",
     "shell.execute_reply": "2023-09-20T04:04:59.582774Z"
    },
    "papermill": {
     "duration": 0.014647,
     "end_time": "2023-09-20T04:04:59.582774",
     "exception": false,
     "start_time": "2023-09-20T04:04:59.568127",
     "status": "completed"
    },
    "tags": []
   },
   "outputs": [
    {
     "name": "stdout",
     "output_type": "stream",
     "text": [
      "alpha = 10\n",
      "beta = 100\n"
     ]
    }
   ],
   "source": [
    "print(f'alpha = {alpha}')\n",
    "print(f'beta = {beta}')"
   ]
  },
  {
   "cell_type": "code",
   "execution_count": null,
   "id": "4cf5cec0",
   "metadata": {
    "papermill": {
     "duration": 0.00198,
     "end_time": "2023-09-20T04:04:59.585784",
     "exception": false,
     "start_time": "2023-09-20T04:04:59.583804",
     "status": "completed"
    },
    "tags": []
   },
   "outputs": [],
   "source": []
  }
 ],
 "metadata": {
  "kernelspec": {
   "display_name": "base",
   "language": "python",
   "name": "python3"
  },
  "language_info": {
   "codemirror_mode": {
    "name": "ipython",
    "version": 3
   },
   "file_extension": ".py",
   "mimetype": "text/x-python",
   "name": "python",
   "nbconvert_exporter": "python",
   "pygments_lexer": "ipython3",
   "version": "3.9.7"
  },
  "papermill": {
   "default_parameters": {},
   "duration": 1.502251,
   "end_time": "2023-09-20T04:04:59.708452",
   "environment_variables": {},
   "exception": null,
   "input_path": "./base.ipynb",
   "output_path": "./base_10.ipynb",
   "parameters": {
    "alpha": 10,
    "beta": 100
   },
   "start_time": "2023-09-20T04:04:58.206201",
   "version": "2.4.0"
  }
 },
 "nbformat": 4,
 "nbformat_minor": 5
}