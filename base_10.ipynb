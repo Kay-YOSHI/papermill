{
 "cells": [
  {
   "cell_type": "markdown",
   "id": "5829396a",
   "metadata": {
    "papermill": {
     "duration": 0.003545,
     "end_time": "2023-09-20T02:43:25.529800",
     "exception": false,
     "start_time": "2023-09-20T02:43:25.526255",
     "status": "completed"
    },
    "tags": []
   },
   "source": [
    "## Base"
   ]
  },
  {
   "cell_type": "code",
   "execution_count": 1,
   "id": "3844c862",
   "metadata": {
    "execution": {
     "iopub.execute_input": "2023-09-20T02:43:25.539776Z",
     "iopub.status.busy": "2023-09-20T02:43:25.539776Z",
     "iopub.status.idle": "2023-09-20T02:43:25.543772Z",
     "shell.execute_reply": "2023-09-20T02:43:25.542778Z"
    },
    "papermill": {
     "duration": 0.009977,
     "end_time": "2023-09-20T02:43:25.543772",
     "exception": false,
     "start_time": "2023-09-20T02:43:25.533795",
     "status": "completed"
    },
    "tags": [
     "parameters"
    ]
   },
   "outputs": [],
   "source": [
    "# parameters\n",
    "alpha = 9999\n",
    "beta = 9999"
   ]
  },
  {
   "cell_type": "code",
   "execution_count": 2,
   "id": "5fd8e47a",
   "metadata": {
    "execution": {
     "iopub.execute_input": "2023-09-20T02:43:25.547761Z",
     "iopub.status.busy": "2023-09-20T02:43:25.547761Z",
     "iopub.status.idle": "2023-09-20T02:43:25.558016Z",
     "shell.execute_reply": "2023-09-20T02:43:25.559017Z"
    },
    "papermill": {
     "duration": 0.01425,
     "end_time": "2023-09-20T02:43:25.559017",
     "exception": false,
     "start_time": "2023-09-20T02:43:25.544767",
     "status": "completed"
    },
    "tags": [
     "injected-parameters"
    ]
   },
   "outputs": [],
   "source": [
    "# Parameters\n",
    "alpha = 10\n",
    "beta = 100\n"
   ]
  },
  {
   "cell_type": "code",
   "execution_count": 3,
   "id": "97461414",
   "metadata": {
    "execution": {
     "iopub.execute_input": "2023-09-20T02:43:25.564581Z",
     "iopub.status.busy": "2023-09-20T02:43:25.564581Z",
     "iopub.status.idle": "2023-09-20T02:43:25.573273Z",
     "shell.execute_reply": "2023-09-20T02:43:25.573273Z"
    },
    "papermill": {
     "duration": 0.012264,
     "end_time": "2023-09-20T02:43:25.573273",
     "exception": false,
     "start_time": "2023-09-20T02:43:25.561009",
     "status": "completed"
    },
    "tags": []
   },
   "outputs": [
    {
     "name": "stdout",
     "output_type": "stream",
     "text": [
      "alpha = 10\n",
      "beta = 100\n"
     ]
    }
   ],
   "source": [
    "print(f'alpha = {alpha}')\n",
    "print(f'beta = {beta}')"
   ]
  },
  {
   "cell_type": "code",
   "execution_count": null,
   "id": "3d48052d",
   "metadata": {
    "papermill": {
     "duration": 0.000991,
     "end_time": "2023-09-20T02:43:25.576266",
     "exception": false,
     "start_time": "2023-09-20T02:43:25.575275",
     "status": "completed"
    },
    "tags": []
   },
   "outputs": [],
   "source": []
  }
 ],
 "metadata": {
  "kernelspec": {
   "display_name": "base",
   "language": "python",
   "name": "python3"
  },
  "language_info": {
   "codemirror_mode": {
    "name": "ipython",
    "version": 3
   },
   "file_extension": ".py",
   "mimetype": "text/x-python",
   "name": "python",
   "nbconvert_exporter": "python",
   "pygments_lexer": "ipython3",
   "version": "3.9.7"
  },
  "papermill": {
   "default_parameters": {},
   "duration": 1.49917,
   "end_time": "2023-09-20T02:43:25.700764",
   "environment_variables": {},
   "exception": null,
   "input_path": "./base.ipynb",
   "output_path": "./base_10.ipynb",
   "parameters": {
    "alpha": 10,
    "beta": 100
   },
   "start_time": "2023-09-20T02:43:24.201594",
   "version": "2.4.0"
  }
 },
 "nbformat": 4,
 "nbformat_minor": 5
}