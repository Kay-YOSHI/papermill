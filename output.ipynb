{
 "cells": [
  {
   "cell_type": "markdown",
   "id": "21dd1ac4",
   "metadata": {
    "papermill": {
     "duration": 0.005933,
     "end_time": "2023-07-19T11:38:29.381736",
     "exception": false,
     "start_time": "2023-07-19T11:38:29.375803",
     "status": "completed"
    },
    "tags": []
   },
   "source": [
    "## Input"
   ]
  },
  {
   "cell_type": "code",
   "execution_count": 1,
   "id": "a47ffd9b",
   "metadata": {
    "execution": {
     "iopub.execute_input": "2023-07-19T11:38:29.396695Z",
     "iopub.status.busy": "2023-07-19T11:38:29.395713Z",
     "iopub.status.idle": "2023-07-19T11:38:29.409751Z",
     "shell.execute_reply": "2023-07-19T11:38:29.408754Z"
    },
    "papermill": {
     "duration": 0.020008,
     "end_time": "2023-07-19T11:38:29.409751",
     "exception": false,
     "start_time": "2023-07-19T11:38:29.389743",
     "status": "completed"
    },
    "tags": [
     "parameters"
    ]
   },
   "outputs": [],
   "source": [
    "# parameters\n",
    "alpha = 9999\n",
    "beta = 9999"
   ]
  },
  {
   "cell_type": "code",
   "execution_count": 2,
   "id": "90834a93",
   "metadata": {
    "execution": {
     "iopub.execute_input": "2023-07-19T11:38:29.414743Z",
     "iopub.status.busy": "2023-07-19T11:38:29.414743Z",
     "iopub.status.idle": "2023-07-19T11:38:29.424205Z",
     "shell.execute_reply": "2023-07-19T11:38:29.423206Z"
    },
    "papermill": {
     "duration": 0.012459,
     "end_time": "2023-07-19T11:38:29.424205",
     "exception": false,
     "start_time": "2023-07-19T11:38:29.411746",
     "status": "completed"
    },
    "tags": [
     "injected-parameters"
    ]
   },
   "outputs": [],
   "source": [
    "# Parameters\n",
    "alpha = 10\n",
    "beta = 100\n"
   ]
  },
  {
   "cell_type": "code",
   "execution_count": 3,
   "id": "8c382cc0",
   "metadata": {
    "execution": {
     "iopub.execute_input": "2023-07-19T11:38:29.430239Z",
     "iopub.status.busy": "2023-07-19T11:38:29.430239Z",
     "iopub.status.idle": "2023-07-19T11:38:29.439199Z",
     "shell.execute_reply": "2023-07-19T11:38:29.439199Z"
    },
    "papermill": {
     "duration": 0.012991,
     "end_time": "2023-07-19T11:38:29.439199",
     "exception": false,
     "start_time": "2023-07-19T11:38:29.426208",
     "status": "completed"
    },
    "tags": []
   },
   "outputs": [
    {
     "name": "stdout",
     "output_type": "stream",
     "text": [
      "alpha = 10\n",
      "beta = 100\n"
     ]
    }
   ],
   "source": [
    "print(f'alpha = {alpha}')\n",
    "print(f'beta = {beta}')"
   ]
  },
  {
   "cell_type": "code",
   "execution_count": null,
   "id": "3e1db214",
   "metadata": {
    "papermill": {
     "duration": 0.000997,
     "end_time": "2023-07-19T11:38:29.442192",
     "exception": false,
     "start_time": "2023-07-19T11:38:29.441195",
     "status": "completed"
    },
    "tags": []
   },
   "outputs": [],
   "source": []
  }
 ],
 "metadata": {
  "kernelspec": {
   "display_name": "base",
   "language": "python",
   "name": "python3"
  },
  "language_info": {
   "codemirror_mode": {
    "name": "ipython",
    "version": 3
   },
   "file_extension": ".py",
   "mimetype": "text/x-python",
   "name": "python",
   "nbconvert_exporter": "python",
   "pygments_lexer": "ipython3",
   "version": "3.9.7"
  },
  "papermill": {
   "default_parameters": {},
   "duration": 1.529649,
   "end_time": "2023-07-19T11:38:29.582613",
   "environment_variables": {},
   "exception": null,
   "input_path": "./input.ipynb",
   "output_path": "./output.ipynb",
   "parameters": {
    "alpha": 10,
    "beta": 100
   },
   "start_time": "2023-07-19T11:38:28.052964",
   "version": "2.4.0"
  }
 },
 "nbformat": 4,
 "nbformat_minor": 5
}