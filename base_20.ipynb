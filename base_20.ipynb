{
 "cells": [
  {
   "cell_type": "markdown",
   "id": "cc5dce09",
   "metadata": {
    "papermill": {
     "duration": 0.005938,
     "end_time": "2023-09-20T04:05:01.007014",
     "exception": false,
     "start_time": "2023-09-20T04:05:01.001076",
     "status": "completed"
    },
    "tags": []
   },
   "source": [
    "## Base"
   ]
  },
  {
   "cell_type": "code",
   "execution_count": 1,
   "id": "60a1bb32",
   "metadata": {
    "execution": {
     "iopub.execute_input": "2023-09-20T04:05:01.018973Z",
     "iopub.status.busy": "2023-09-20T04:05:01.014983Z",
     "iopub.status.idle": "2023-09-20T04:05:01.034184Z",
     "shell.execute_reply": "2023-09-20T04:05:01.034184Z"
    },
    "papermill": {
     "duration": 0.022188,
     "end_time": "2023-09-20T04:05:01.034184",
     "exception": false,
     "start_time": "2023-09-20T04:05:01.011996",
     "status": "completed"
    },
    "tags": [
     "parameters"
    ]
   },
   "outputs": [],
   "source": [
    "# parameters\n",
    "alpha = 9999\n",
    "beta = 9999"
   ]
  },
  {
   "cell_type": "code",
   "execution_count": 2,
   "id": "a4539318",
   "metadata": {
    "execution": {
     "iopub.execute_input": "2023-09-20T04:05:01.039112Z",
     "iopub.status.busy": "2023-09-20T04:05:01.039112Z",
     "iopub.status.idle": "2023-09-20T04:05:01.050123Z",
     "shell.execute_reply": "2023-09-20T04:05:01.050123Z"
    },
    "papermill": {
     "duration": 0.013944,
     "end_time": "2023-09-20T04:05:01.050123",
     "exception": false,
     "start_time": "2023-09-20T04:05:01.036179",
     "status": "completed"
    },
    "tags": [
     "injected-parameters"
    ]
   },
   "outputs": [],
   "source": [
    "# Parameters\n",
    "alpha = 20\n",
    "beta = 100\n"
   ]
  },
  {
   "cell_type": "code",
   "execution_count": 3,
   "id": "30279782",
   "metadata": {
    "execution": {
     "iopub.execute_input": "2023-09-20T04:05:01.055094Z",
     "iopub.status.busy": "2023-09-20T04:05:01.055094Z",
     "iopub.status.idle": "2023-09-20T04:05:01.064289Z",
     "shell.execute_reply": "2023-09-20T04:05:01.064289Z"
    },
    "papermill": {
     "duration": 0.013169,
     "end_time": "2023-09-20T04:05:01.064289",
     "exception": false,
     "start_time": "2023-09-20T04:05:01.051120",
     "status": "completed"
    },
    "tags": []
   },
   "outputs": [
    {
     "name": "stdout",
     "output_type": "stream",
     "text": [
      "alpha = 20\n",
      "beta = 100\n"
     ]
    }
   ],
   "source": [
    "print(f'alpha = {alpha}')\n",
    "print(f'beta = {beta}')"
   ]
  },
  {
   "cell_type": "code",
   "execution_count": null,
   "id": "4f90ca86",
   "metadata": {
    "papermill": {
     "duration": 0.001015,
     "end_time": "2023-09-20T04:05:01.067651",
     "exception": false,
     "start_time": "2023-09-20T04:05:01.066636",
     "status": "completed"
    },
    "tags": []
   },
   "outputs": [],
   "source": []
  }
 ],
 "metadata": {
  "kernelspec": {
   "display_name": "base",
   "language": "python",
   "name": "python3"
  },
  "language_info": {
   "codemirror_mode": {
    "name": "ipython",
    "version": 3
   },
   "file_extension": ".py",
   "mimetype": "text/x-python",
   "name": "python",
   "nbconvert_exporter": "python",
   "pygments_lexer": "ipython3",
   "version": "3.9.7"
  },
  "papermill": {
   "default_parameters": {},
   "duration": 1.47674,
   "end_time": "2023-09-20T04:05:01.195165",
   "environment_variables": {},
   "exception": null,
   "input_path": "./base.ipynb",
   "output_path": "./base_20.ipynb",
   "parameters": {
    "alpha": 20,
    "beta": 100
   },
   "start_time": "2023-09-20T04:04:59.718425",
   "version": "2.4.0"
  }
 },
 "nbformat": 4,
 "nbformat_minor": 5
}