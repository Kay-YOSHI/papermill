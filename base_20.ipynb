{
 "cells": [
  {
   "cell_type": "markdown",
   "id": "40f60819",
   "metadata": {
    "papermill": {
     "duration": 0.003985,
     "end_time": "2023-09-20T02:43:26.996913",
     "exception": false,
     "start_time": "2023-09-20T02:43:26.992928",
     "status": "completed"
    },
    "tags": []
   },
   "source": [
    "## Base"
   ]
  },
  {
   "cell_type": "code",
   "execution_count": 1,
   "id": "69fb5869",
   "metadata": {
    "execution": {
     "iopub.execute_input": "2023-09-20T02:43:27.005885Z",
     "iopub.status.busy": "2023-09-20T02:43:27.004889Z",
     "iopub.status.idle": "2023-09-20T02:43:27.010885Z",
     "shell.execute_reply": "2023-09-20T02:43:27.010885Z"
    },
    "papermill": {
     "duration": 0.011946,
     "end_time": "2023-09-20T02:43:27.010885",
     "exception": false,
     "start_time": "2023-09-20T02:43:26.998939",
     "status": "completed"
    },
    "tags": [
     "parameters"
    ]
   },
   "outputs": [],
   "source": [
    "# parameters\n",
    "alpha = 9999\n",
    "beta = 9999"
   ]
  },
  {
   "cell_type": "code",
   "execution_count": 2,
   "id": "96adc8da",
   "metadata": {
    "execution": {
     "iopub.execute_input": "2023-09-20T02:43:27.016861Z",
     "iopub.status.busy": "2023-09-20T02:43:27.015860Z",
     "iopub.status.idle": "2023-09-20T02:43:27.025851Z",
     "shell.execute_reply": "2023-09-20T02:43:27.025851Z"
    },
    "papermill": {
     "duration": 0.013978,
     "end_time": "2023-09-20T02:43:27.025851",
     "exception": false,
     "start_time": "2023-09-20T02:43:27.011873",
     "status": "completed"
    },
    "tags": [
     "injected-parameters"
    ]
   },
   "outputs": [],
   "source": [
    "# Parameters\n",
    "alpha = 20\n",
    "beta = 100\n"
   ]
  },
  {
   "cell_type": "code",
   "execution_count": 3,
   "id": "7638d918",
   "metadata": {
    "execution": {
     "iopub.execute_input": "2023-09-20T02:43:27.031041Z",
     "iopub.status.busy": "2023-09-20T02:43:27.030045Z",
     "iopub.status.idle": "2023-09-20T02:43:27.042012Z",
     "shell.execute_reply": "2023-09-20T02:43:27.043010Z"
    },
    "papermill": {
     "duration": 0.016162,
     "end_time": "2023-09-20T02:43:27.043010",
     "exception": false,
     "start_time": "2023-09-20T02:43:27.026848",
     "status": "completed"
    },
    "tags": []
   },
   "outputs": [
    {
     "name": "stdout",
     "output_type": "stream",
     "text": [
      "alpha = 20\n",
      "beta = 100\n"
     ]
    }
   ],
   "source": [
    "print(f'alpha = {alpha}')\n",
    "print(f'beta = {beta}')"
   ]
  },
  {
   "cell_type": "code",
   "execution_count": null,
   "id": "7fa7d570",
   "metadata": {
    "papermill": {
     "duration": 0.002006,
     "end_time": "2023-09-20T02:43:27.047010",
     "exception": false,
     "start_time": "2023-09-20T02:43:27.045004",
     "status": "completed"
    },
    "tags": []
   },
   "outputs": [],
   "source": []
  }
 ],
 "metadata": {
  "kernelspec": {
   "display_name": "base",
   "language": "python",
   "name": "python3"
  },
  "language_info": {
   "codemirror_mode": {
    "name": "ipython",
    "version": 3
   },
   "file_extension": ".py",
   "mimetype": "text/x-python",
   "name": "python",
   "nbconvert_exporter": "python",
   "pygments_lexer": "ipython3",
   "version": "3.9.7"
  },
  "papermill": {
   "default_parameters": {},
   "duration": 1.457348,
   "end_time": "2023-09-20T02:43:27.168039",
   "environment_variables": {},
   "exception": null,
   "input_path": "./base.ipynb",
   "output_path": "./base_20.ipynb",
   "parameters": {
    "alpha": 20,
    "beta": 100
   },
   "start_time": "2023-09-20T02:43:25.710691",
   "version": "2.4.0"
  }
 },
 "nbformat": 4,
 "nbformat_minor": 5
}